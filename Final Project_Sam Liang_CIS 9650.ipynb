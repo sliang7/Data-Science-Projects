{
 "cells": [
  {
   "cell_type": "code",
   "execution_count": null,
   "metadata": {},
   "outputs": [],
   "source": [
    "#Name: Sam Liang\n",
    "#Prof. Feldman\n",
    "#CIS 9650\n",
    "#Final Project due 5/10/22\n",
    "\n",
    "                                               ###Assignment###\n",
    "#The management team at Amalgamated Bank Corp (ABC) has asked you to step in as a data analyst. \n",
    "#They heard about your rapidly developing Python skills and would like you to help them out.\n",
    "#They are a bank. Their business consists of issuing loans. Their problem is that they know very little about \n",
    "#their data. They have a data file that has over 300k loans they have issued. The dataset describes information \n",
    "#about each loan. The dataset contains loan amount issued and many other fields that describe the client’s \n",
    "#credit factors, such as whether they own their own home or not, their income, how long it has been since they \n",
    "#were delinquent on an account, how many years since they received their first credit line, etc.\n",
    "#The problem is that ABC has no idea who their clients are and what their data can tell them about their business. \n",
    "#They have asked for your guidance. They have provided a data file and a data dictionary.  \n",
    "#The data dictionary contains a list of fields in the dataset and an explanation for each one. \n",
    "#(To simplify the project, many irrelevant fields have been removed from the dataset.  \n",
    "#Those fields still appear in the dictionary, however)."
   ]
  },
  {
   "cell_type": "code",
   "execution_count": null,
   "metadata": {},
   "outputs": [],
   "source": [
    "# To help our client, here are the steps to take:\n",
    "# 1. Cleanse\n",
    "# Look for null data in the table, and use the appropriate strategy to handle null data for each column. \n",
    "# Explain why this was the strategy that you used.\n",
    "\n",
    "# 2. Outliers\n",
    "# Search the data for outliers and remove them. Use the appropriate outlier method(s). Show all work.\n",
    "\n",
    "# 3. Who are our clients?\n",
    "# The ABC Management team has no idea who their customers are. They don’t know anything about the type of \n",
    "# employment and age, income of their clients. They need to know some macro information about their data.  \n",
    "# How much (total) do they have out in loans? How much are in default/late? What percentage of the business are \n",
    "# default and late?\n",
    "# Along with the information above, provide three other demographics of their customers.\n",
    "# Remember, we are dealing with senior management. The charts must be readable, meaningful, and at a summary level\n",
    "# Use at least one group/by or bin in your analysis\n",
    "\n",
    "# 4. Who defaults or has problems replaying loans?\n",
    "# Create visualizations to show management qualities specific to those who are in default/late. Show three \n",
    "# meaningful visualizations.\n",
    "# Use at least one group/by or bin in your analysis.\n",
    "#  \n",
    "# 5. Prepare the data for a regression analysis\n",
    "# The ABC management team has heard that it might be possible to use their data to make predictions.  \n",
    "# They don’t know much about data analytics. We are hoping that an example of what is possible will help them \n",
    "# understand better.\n",
    "# Prepare the data file to run with a regression analysis. Use the techniques and methods discussed in class.\n",
    "\n",
    "# 6. Run the regression analysis\n",
    "# Show scoring and a confusion matrix. You do not need to split the data.  Running it as a full dataset is fine."
   ]
  },
  {
   "cell_type": "code",
   "execution_count": 1,
   "metadata": {},
   "outputs": [],
   "source": [
    "import numpy as np\n",
    "import pandas as pd\n",
    "import matplotlib.pyplot as plt\n",
    "import seaborn as sb "
   ]
  },
  {
   "cell_type": "code",
   "execution_count": 2,
   "metadata": {},
   "outputs": [],
   "source": [
    "df = pd.read_csv('application_train.csv')\n",
    "#df = pd.read_csv('application_train.csv')"
   ]
  },
  {
   "cell_type": "code",
   "execution_count": 3,
   "metadata": {},
   "outputs": [],
   "source": [
    "del df['SK_ID_CURR']\n",
    "#or also can use: \n",
    "#df = df.drop(columns = ['SK_ID_CURR']) "
   ]
  },
  {
   "cell_type": "code",
   "execution_count": 4,
   "metadata": {},
   "outputs": [
    {
     "data": {
      "text/html": [
       "<div>\n",
       "<style scoped>\n",
       "    .dataframe tbody tr th:only-of-type {\n",
       "        vertical-align: middle;\n",
       "    }\n",
       "\n",
       "    .dataframe tbody tr th {\n",
       "        vertical-align: top;\n",
       "    }\n",
       "\n",
       "    .dataframe thead th {\n",
       "        text-align: right;\n",
       "    }\n",
       "</style>\n",
       "<table border=\"1\" class=\"dataframe\">\n",
       "  <thead>\n",
       "    <tr style=\"text-align: right;\">\n",
       "      <th></th>\n",
       "      <th>Unnamed: 1</th>\n",
       "      <th>NAME_CONTRACT_TYPE</th>\n",
       "      <th>CODE_GENDER</th>\n",
       "      <th>FLAG_OWN_CAR</th>\n",
       "      <th>FLAG_OWN_REALTY</th>\n",
       "      <th>CNT_CHILDREN</th>\n",
       "      <th>AMT_INCOME_TOTAL</th>\n",
       "      <th>AMT_CREDIT</th>\n",
       "      <th>AMT_ANNUITY</th>\n",
       "      <th>AMT_GOODS_PRICE</th>\n",
       "      <th>...</th>\n",
       "      <th>OCCUPATION_TYPE</th>\n",
       "      <th>CNT_FAM_MEMBERS</th>\n",
       "      <th>REG_REGION_NOT_LIVE_REGION</th>\n",
       "      <th>REG_REGION_NOT_WORK_REGION</th>\n",
       "      <th>LIVE_REGION_NOT_WORK_REGION</th>\n",
       "      <th>REG_CITY_NOT_LIVE_CITY</th>\n",
       "      <th>REG_CITY_NOT_WORK_CITY</th>\n",
       "      <th>LIVE_CITY_NOT_WORK_CITY</th>\n",
       "      <th>ORGANIZATION_TYPE</th>\n",
       "      <th>TARGET</th>\n",
       "    </tr>\n",
       "  </thead>\n",
       "  <tbody>\n",
       "    <tr>\n",
       "      <th>0</th>\n",
       "      <td>NaN</td>\n",
       "      <td>Cash loans</td>\n",
       "      <td>M</td>\n",
       "      <td>N</td>\n",
       "      <td>Y</td>\n",
       "      <td>0</td>\n",
       "      <td>202500.0</td>\n",
       "      <td>406597.5</td>\n",
       "      <td>24700.5</td>\n",
       "      <td>351000.0</td>\n",
       "      <td>...</td>\n",
       "      <td>Laborers</td>\n",
       "      <td>1.0</td>\n",
       "      <td>0</td>\n",
       "      <td>0</td>\n",
       "      <td>0</td>\n",
       "      <td>0</td>\n",
       "      <td>0</td>\n",
       "      <td>0</td>\n",
       "      <td>Business Entity Type 3</td>\n",
       "      <td>1</td>\n",
       "    </tr>\n",
       "    <tr>\n",
       "      <th>1</th>\n",
       "      <td>NaN</td>\n",
       "      <td>Cash loans</td>\n",
       "      <td>F</td>\n",
       "      <td>N</td>\n",
       "      <td>N</td>\n",
       "      <td>0</td>\n",
       "      <td>270000.0</td>\n",
       "      <td>1293502.5</td>\n",
       "      <td>35698.5</td>\n",
       "      <td>1129500.0</td>\n",
       "      <td>...</td>\n",
       "      <td>Core staff</td>\n",
       "      <td>2.0</td>\n",
       "      <td>0</td>\n",
       "      <td>0</td>\n",
       "      <td>0</td>\n",
       "      <td>0</td>\n",
       "      <td>0</td>\n",
       "      <td>0</td>\n",
       "      <td>School</td>\n",
       "      <td>0</td>\n",
       "    </tr>\n",
       "    <tr>\n",
       "      <th>2</th>\n",
       "      <td>NaN</td>\n",
       "      <td>Revolving loans</td>\n",
       "      <td>M</td>\n",
       "      <td>Y</td>\n",
       "      <td>Y</td>\n",
       "      <td>0</td>\n",
       "      <td>67500.0</td>\n",
       "      <td>135000.0</td>\n",
       "      <td>6750.0</td>\n",
       "      <td>135000.0</td>\n",
       "      <td>...</td>\n",
       "      <td>Laborers</td>\n",
       "      <td>1.0</td>\n",
       "      <td>0</td>\n",
       "      <td>0</td>\n",
       "      <td>0</td>\n",
       "      <td>0</td>\n",
       "      <td>0</td>\n",
       "      <td>0</td>\n",
       "      <td>Government</td>\n",
       "      <td>0</td>\n",
       "    </tr>\n",
       "    <tr>\n",
       "      <th>3</th>\n",
       "      <td>NaN</td>\n",
       "      <td>Cash loans</td>\n",
       "      <td>F</td>\n",
       "      <td>N</td>\n",
       "      <td>Y</td>\n",
       "      <td>0</td>\n",
       "      <td>135000.0</td>\n",
       "      <td>312682.5</td>\n",
       "      <td>29686.5</td>\n",
       "      <td>297000.0</td>\n",
       "      <td>...</td>\n",
       "      <td>Laborers</td>\n",
       "      <td>2.0</td>\n",
       "      <td>0</td>\n",
       "      <td>0</td>\n",
       "      <td>0</td>\n",
       "      <td>0</td>\n",
       "      <td>0</td>\n",
       "      <td>0</td>\n",
       "      <td>Business Entity Type 3</td>\n",
       "      <td>0</td>\n",
       "    </tr>\n",
       "    <tr>\n",
       "      <th>4</th>\n",
       "      <td>NaN</td>\n",
       "      <td>Cash loans</td>\n",
       "      <td>M</td>\n",
       "      <td>N</td>\n",
       "      <td>Y</td>\n",
       "      <td>0</td>\n",
       "      <td>121500.0</td>\n",
       "      <td>513000.0</td>\n",
       "      <td>21865.5</td>\n",
       "      <td>513000.0</td>\n",
       "      <td>...</td>\n",
       "      <td>Core staff</td>\n",
       "      <td>1.0</td>\n",
       "      <td>0</td>\n",
       "      <td>0</td>\n",
       "      <td>0</td>\n",
       "      <td>0</td>\n",
       "      <td>1</td>\n",
       "      <td>1</td>\n",
       "      <td>Religion</td>\n",
       "      <td>0</td>\n",
       "    </tr>\n",
       "    <tr>\n",
       "      <th>...</th>\n",
       "      <td>...</td>\n",
       "      <td>...</td>\n",
       "      <td>...</td>\n",
       "      <td>...</td>\n",
       "      <td>...</td>\n",
       "      <td>...</td>\n",
       "      <td>...</td>\n",
       "      <td>...</td>\n",
       "      <td>...</td>\n",
       "      <td>...</td>\n",
       "      <td>...</td>\n",
       "      <td>...</td>\n",
       "      <td>...</td>\n",
       "      <td>...</td>\n",
       "      <td>...</td>\n",
       "      <td>...</td>\n",
       "      <td>...</td>\n",
       "      <td>...</td>\n",
       "      <td>...</td>\n",
       "      <td>...</td>\n",
       "      <td>...</td>\n",
       "    </tr>\n",
       "    <tr>\n",
       "      <th>307506</th>\n",
       "      <td>NaN</td>\n",
       "      <td>Cash loans</td>\n",
       "      <td>M</td>\n",
       "      <td>N</td>\n",
       "      <td>N</td>\n",
       "      <td>0</td>\n",
       "      <td>157500.0</td>\n",
       "      <td>254700.0</td>\n",
       "      <td>27558.0</td>\n",
       "      <td>225000.0</td>\n",
       "      <td>...</td>\n",
       "      <td>Sales staff</td>\n",
       "      <td>1.0</td>\n",
       "      <td>0</td>\n",
       "      <td>0</td>\n",
       "      <td>0</td>\n",
       "      <td>0</td>\n",
       "      <td>0</td>\n",
       "      <td>0</td>\n",
       "      <td>Services</td>\n",
       "      <td>0</td>\n",
       "    </tr>\n",
       "    <tr>\n",
       "      <th>307507</th>\n",
       "      <td>NaN</td>\n",
       "      <td>Cash loans</td>\n",
       "      <td>F</td>\n",
       "      <td>N</td>\n",
       "      <td>Y</td>\n",
       "      <td>0</td>\n",
       "      <td>72000.0</td>\n",
       "      <td>269550.0</td>\n",
       "      <td>12001.5</td>\n",
       "      <td>225000.0</td>\n",
       "      <td>...</td>\n",
       "      <td>NaN</td>\n",
       "      <td>1.0</td>\n",
       "      <td>0</td>\n",
       "      <td>0</td>\n",
       "      <td>0</td>\n",
       "      <td>0</td>\n",
       "      <td>0</td>\n",
       "      <td>0</td>\n",
       "      <td>XNA</td>\n",
       "      <td>0</td>\n",
       "    </tr>\n",
       "    <tr>\n",
       "      <th>307508</th>\n",
       "      <td>NaN</td>\n",
       "      <td>Cash loans</td>\n",
       "      <td>F</td>\n",
       "      <td>N</td>\n",
       "      <td>Y</td>\n",
       "      <td>0</td>\n",
       "      <td>153000.0</td>\n",
       "      <td>677664.0</td>\n",
       "      <td>29979.0</td>\n",
       "      <td>585000.0</td>\n",
       "      <td>...</td>\n",
       "      <td>Managers</td>\n",
       "      <td>1.0</td>\n",
       "      <td>0</td>\n",
       "      <td>0</td>\n",
       "      <td>0</td>\n",
       "      <td>0</td>\n",
       "      <td>1</td>\n",
       "      <td>1</td>\n",
       "      <td>School</td>\n",
       "      <td>0</td>\n",
       "    </tr>\n",
       "    <tr>\n",
       "      <th>307509</th>\n",
       "      <td>NaN</td>\n",
       "      <td>Cash loans</td>\n",
       "      <td>F</td>\n",
       "      <td>N</td>\n",
       "      <td>Y</td>\n",
       "      <td>0</td>\n",
       "      <td>171000.0</td>\n",
       "      <td>370107.0</td>\n",
       "      <td>20205.0</td>\n",
       "      <td>319500.0</td>\n",
       "      <td>...</td>\n",
       "      <td>Laborers</td>\n",
       "      <td>2.0</td>\n",
       "      <td>0</td>\n",
       "      <td>0</td>\n",
       "      <td>0</td>\n",
       "      <td>1</td>\n",
       "      <td>1</td>\n",
       "      <td>0</td>\n",
       "      <td>Business Entity Type 1</td>\n",
       "      <td>1</td>\n",
       "    </tr>\n",
       "    <tr>\n",
       "      <th>307510</th>\n",
       "      <td>NaN</td>\n",
       "      <td>Cash loans</td>\n",
       "      <td>F</td>\n",
       "      <td>N</td>\n",
       "      <td>N</td>\n",
       "      <td>0</td>\n",
       "      <td>157500.0</td>\n",
       "      <td>675000.0</td>\n",
       "      <td>49117.5</td>\n",
       "      <td>675000.0</td>\n",
       "      <td>...</td>\n",
       "      <td>Laborers</td>\n",
       "      <td>2.0</td>\n",
       "      <td>0</td>\n",
       "      <td>0</td>\n",
       "      <td>0</td>\n",
       "      <td>0</td>\n",
       "      <td>1</td>\n",
       "      <td>1</td>\n",
       "      <td>Business Entity Type 3</td>\n",
       "      <td>0</td>\n",
       "    </tr>\n",
       "  </tbody>\n",
       "</table>\n",
       "<p>307511 rows × 36 columns</p>\n",
       "</div>"
      ],
      "text/plain": [
       "        Unnamed: 1 NAME_CONTRACT_TYPE CODE_GENDER FLAG_OWN_CAR  \\\n",
       "0              NaN         Cash loans           M            N   \n",
       "1              NaN         Cash loans           F            N   \n",
       "2              NaN    Revolving loans           M            Y   \n",
       "3              NaN         Cash loans           F            N   \n",
       "4              NaN         Cash loans           M            N   \n",
       "...            ...                ...         ...          ...   \n",
       "307506         NaN         Cash loans           M            N   \n",
       "307507         NaN         Cash loans           F            N   \n",
       "307508         NaN         Cash loans           F            N   \n",
       "307509         NaN         Cash loans           F            N   \n",
       "307510         NaN         Cash loans           F            N   \n",
       "\n",
       "       FLAG_OWN_REALTY  CNT_CHILDREN  AMT_INCOME_TOTAL  AMT_CREDIT  \\\n",
       "0                    Y             0          202500.0    406597.5   \n",
       "1                    N             0          270000.0   1293502.5   \n",
       "2                    Y             0           67500.0    135000.0   \n",
       "3                    Y             0          135000.0    312682.5   \n",
       "4                    Y             0          121500.0    513000.0   \n",
       "...                ...           ...               ...         ...   \n",
       "307506               N             0          157500.0    254700.0   \n",
       "307507               Y             0           72000.0    269550.0   \n",
       "307508               Y             0          153000.0    677664.0   \n",
       "307509               Y             0          171000.0    370107.0   \n",
       "307510               N             0          157500.0    675000.0   \n",
       "\n",
       "        AMT_ANNUITY  AMT_GOODS_PRICE  ... OCCUPATION_TYPE CNT_FAM_MEMBERS  \\\n",
       "0           24700.5         351000.0  ...        Laborers             1.0   \n",
       "1           35698.5        1129500.0  ...      Core staff             2.0   \n",
       "2            6750.0         135000.0  ...        Laborers             1.0   \n",
       "3           29686.5         297000.0  ...        Laborers             2.0   \n",
       "4           21865.5         513000.0  ...      Core staff             1.0   \n",
       "...             ...              ...  ...             ...             ...   \n",
       "307506      27558.0         225000.0  ...     Sales staff             1.0   \n",
       "307507      12001.5         225000.0  ...             NaN             1.0   \n",
       "307508      29979.0         585000.0  ...        Managers             1.0   \n",
       "307509      20205.0         319500.0  ...        Laborers             2.0   \n",
       "307510      49117.5         675000.0  ...        Laborers             2.0   \n",
       "\n",
       "       REG_REGION_NOT_LIVE_REGION REG_REGION_NOT_WORK_REGION  \\\n",
       "0                               0                          0   \n",
       "1                               0                          0   \n",
       "2                               0                          0   \n",
       "3                               0                          0   \n",
       "4                               0                          0   \n",
       "...                           ...                        ...   \n",
       "307506                          0                          0   \n",
       "307507                          0                          0   \n",
       "307508                          0                          0   \n",
       "307509                          0                          0   \n",
       "307510                          0                          0   \n",
       "\n",
       "       LIVE_REGION_NOT_WORK_REGION  REG_CITY_NOT_LIVE_CITY  \\\n",
       "0                                0                       0   \n",
       "1                                0                       0   \n",
       "2                                0                       0   \n",
       "3                                0                       0   \n",
       "4                                0                       0   \n",
       "...                            ...                     ...   \n",
       "307506                           0                       0   \n",
       "307507                           0                       0   \n",
       "307508                           0                       0   \n",
       "307509                           0                       1   \n",
       "307510                           0                       0   \n",
       "\n",
       "        REG_CITY_NOT_WORK_CITY  LIVE_CITY_NOT_WORK_CITY  \\\n",
       "0                            0                        0   \n",
       "1                            0                        0   \n",
       "2                            0                        0   \n",
       "3                            0                        0   \n",
       "4                            1                        1   \n",
       "...                        ...                      ...   \n",
       "307506                       0                        0   \n",
       "307507                       0                        0   \n",
       "307508                       1                        1   \n",
       "307509                       1                        0   \n",
       "307510                       1                        1   \n",
       "\n",
       "             ORGANIZATION_TYPE  TARGET  \n",
       "0       Business Entity Type 3       1  \n",
       "1                       School       0  \n",
       "2                   Government       0  \n",
       "3       Business Entity Type 3       0  \n",
       "4                     Religion       0  \n",
       "...                        ...     ...  \n",
       "307506                Services       0  \n",
       "307507                     XNA       0  \n",
       "307508                  School       0  \n",
       "307509  Business Entity Type 1       1  \n",
       "307510  Business Entity Type 3       0  \n",
       "\n",
       "[307511 rows x 36 columns]"
      ]
     },
     "execution_count": 4,
     "metadata": {},
     "output_type": "execute_result"
    }
   ],
   "source": [
    "df"
   ]
  },
  {
   "cell_type": "code",
   "execution_count": 5,
   "metadata": {},
   "outputs": [],
   "source": [
    "#Delete the empty column\n",
    "df.drop(df.columns[0], axis=1, inplace=True)"
   ]
  },
  {
   "cell_type": "code",
   "execution_count": 6,
   "metadata": {},
   "outputs": [
    {
     "data": {
      "text/html": [
       "<div>\n",
       "<style scoped>\n",
       "    .dataframe tbody tr th:only-of-type {\n",
       "        vertical-align: middle;\n",
       "    }\n",
       "\n",
       "    .dataframe tbody tr th {\n",
       "        vertical-align: top;\n",
       "    }\n",
       "\n",
       "    .dataframe thead th {\n",
       "        text-align: right;\n",
       "    }\n",
       "</style>\n",
       "<table border=\"1\" class=\"dataframe\">\n",
       "  <thead>\n",
       "    <tr style=\"text-align: right;\">\n",
       "      <th></th>\n",
       "      <th>NAME_CONTRACT_TYPE</th>\n",
       "      <th>CODE_GENDER</th>\n",
       "      <th>FLAG_OWN_CAR</th>\n",
       "      <th>FLAG_OWN_REALTY</th>\n",
       "      <th>CNT_CHILDREN</th>\n",
       "      <th>AMT_INCOME_TOTAL</th>\n",
       "      <th>AMT_CREDIT</th>\n",
       "      <th>AMT_ANNUITY</th>\n",
       "      <th>AMT_GOODS_PRICE</th>\n",
       "      <th>NAME_TYPE_SUITE</th>\n",
       "      <th>...</th>\n",
       "      <th>OCCUPATION_TYPE</th>\n",
       "      <th>CNT_FAM_MEMBERS</th>\n",
       "      <th>REG_REGION_NOT_LIVE_REGION</th>\n",
       "      <th>REG_REGION_NOT_WORK_REGION</th>\n",
       "      <th>LIVE_REGION_NOT_WORK_REGION</th>\n",
       "      <th>REG_CITY_NOT_LIVE_CITY</th>\n",
       "      <th>REG_CITY_NOT_WORK_CITY</th>\n",
       "      <th>LIVE_CITY_NOT_WORK_CITY</th>\n",
       "      <th>ORGANIZATION_TYPE</th>\n",
       "      <th>TARGET</th>\n",
       "    </tr>\n",
       "  </thead>\n",
       "  <tbody>\n",
       "    <tr>\n",
       "      <th>0</th>\n",
       "      <td>Cash loans</td>\n",
       "      <td>M</td>\n",
       "      <td>N</td>\n",
       "      <td>Y</td>\n",
       "      <td>0</td>\n",
       "      <td>202500.0</td>\n",
       "      <td>406597.5</td>\n",
       "      <td>24700.5</td>\n",
       "      <td>351000.0</td>\n",
       "      <td>Unaccompanied</td>\n",
       "      <td>...</td>\n",
       "      <td>Laborers</td>\n",
       "      <td>1.0</td>\n",
       "      <td>0</td>\n",
       "      <td>0</td>\n",
       "      <td>0</td>\n",
       "      <td>0</td>\n",
       "      <td>0</td>\n",
       "      <td>0</td>\n",
       "      <td>Business Entity Type 3</td>\n",
       "      <td>1</td>\n",
       "    </tr>\n",
       "    <tr>\n",
       "      <th>1</th>\n",
       "      <td>Cash loans</td>\n",
       "      <td>F</td>\n",
       "      <td>N</td>\n",
       "      <td>N</td>\n",
       "      <td>0</td>\n",
       "      <td>270000.0</td>\n",
       "      <td>1293502.5</td>\n",
       "      <td>35698.5</td>\n",
       "      <td>1129500.0</td>\n",
       "      <td>Family</td>\n",
       "      <td>...</td>\n",
       "      <td>Core staff</td>\n",
       "      <td>2.0</td>\n",
       "      <td>0</td>\n",
       "      <td>0</td>\n",
       "      <td>0</td>\n",
       "      <td>0</td>\n",
       "      <td>0</td>\n",
       "      <td>0</td>\n",
       "      <td>School</td>\n",
       "      <td>0</td>\n",
       "    </tr>\n",
       "    <tr>\n",
       "      <th>2</th>\n",
       "      <td>Revolving loans</td>\n",
       "      <td>M</td>\n",
       "      <td>Y</td>\n",
       "      <td>Y</td>\n",
       "      <td>0</td>\n",
       "      <td>67500.0</td>\n",
       "      <td>135000.0</td>\n",
       "      <td>6750.0</td>\n",
       "      <td>135000.0</td>\n",
       "      <td>Unaccompanied</td>\n",
       "      <td>...</td>\n",
       "      <td>Laborers</td>\n",
       "      <td>1.0</td>\n",
       "      <td>0</td>\n",
       "      <td>0</td>\n",
       "      <td>0</td>\n",
       "      <td>0</td>\n",
       "      <td>0</td>\n",
       "      <td>0</td>\n",
       "      <td>Government</td>\n",
       "      <td>0</td>\n",
       "    </tr>\n",
       "    <tr>\n",
       "      <th>3</th>\n",
       "      <td>Cash loans</td>\n",
       "      <td>F</td>\n",
       "      <td>N</td>\n",
       "      <td>Y</td>\n",
       "      <td>0</td>\n",
       "      <td>135000.0</td>\n",
       "      <td>312682.5</td>\n",
       "      <td>29686.5</td>\n",
       "      <td>297000.0</td>\n",
       "      <td>Unaccompanied</td>\n",
       "      <td>...</td>\n",
       "      <td>Laborers</td>\n",
       "      <td>2.0</td>\n",
       "      <td>0</td>\n",
       "      <td>0</td>\n",
       "      <td>0</td>\n",
       "      <td>0</td>\n",
       "      <td>0</td>\n",
       "      <td>0</td>\n",
       "      <td>Business Entity Type 3</td>\n",
       "      <td>0</td>\n",
       "    </tr>\n",
       "    <tr>\n",
       "      <th>4</th>\n",
       "      <td>Cash loans</td>\n",
       "      <td>M</td>\n",
       "      <td>N</td>\n",
       "      <td>Y</td>\n",
       "      <td>0</td>\n",
       "      <td>121500.0</td>\n",
       "      <td>513000.0</td>\n",
       "      <td>21865.5</td>\n",
       "      <td>513000.0</td>\n",
       "      <td>Unaccompanied</td>\n",
       "      <td>...</td>\n",
       "      <td>Core staff</td>\n",
       "      <td>1.0</td>\n",
       "      <td>0</td>\n",
       "      <td>0</td>\n",
       "      <td>0</td>\n",
       "      <td>0</td>\n",
       "      <td>1</td>\n",
       "      <td>1</td>\n",
       "      <td>Religion</td>\n",
       "      <td>0</td>\n",
       "    </tr>\n",
       "    <tr>\n",
       "      <th>...</th>\n",
       "      <td>...</td>\n",
       "      <td>...</td>\n",
       "      <td>...</td>\n",
       "      <td>...</td>\n",
       "      <td>...</td>\n",
       "      <td>...</td>\n",
       "      <td>...</td>\n",
       "      <td>...</td>\n",
       "      <td>...</td>\n",
       "      <td>...</td>\n",
       "      <td>...</td>\n",
       "      <td>...</td>\n",
       "      <td>...</td>\n",
       "      <td>...</td>\n",
       "      <td>...</td>\n",
       "      <td>...</td>\n",
       "      <td>...</td>\n",
       "      <td>...</td>\n",
       "      <td>...</td>\n",
       "      <td>...</td>\n",
       "      <td>...</td>\n",
       "    </tr>\n",
       "    <tr>\n",
       "      <th>307506</th>\n",
       "      <td>Cash loans</td>\n",
       "      <td>M</td>\n",
       "      <td>N</td>\n",
       "      <td>N</td>\n",
       "      <td>0</td>\n",
       "      <td>157500.0</td>\n",
       "      <td>254700.0</td>\n",
       "      <td>27558.0</td>\n",
       "      <td>225000.0</td>\n",
       "      <td>Unaccompanied</td>\n",
       "      <td>...</td>\n",
       "      <td>Sales staff</td>\n",
       "      <td>1.0</td>\n",
       "      <td>0</td>\n",
       "      <td>0</td>\n",
       "      <td>0</td>\n",
       "      <td>0</td>\n",
       "      <td>0</td>\n",
       "      <td>0</td>\n",
       "      <td>Services</td>\n",
       "      <td>0</td>\n",
       "    </tr>\n",
       "    <tr>\n",
       "      <th>307507</th>\n",
       "      <td>Cash loans</td>\n",
       "      <td>F</td>\n",
       "      <td>N</td>\n",
       "      <td>Y</td>\n",
       "      <td>0</td>\n",
       "      <td>72000.0</td>\n",
       "      <td>269550.0</td>\n",
       "      <td>12001.5</td>\n",
       "      <td>225000.0</td>\n",
       "      <td>Unaccompanied</td>\n",
       "      <td>...</td>\n",
       "      <td>NaN</td>\n",
       "      <td>1.0</td>\n",
       "      <td>0</td>\n",
       "      <td>0</td>\n",
       "      <td>0</td>\n",
       "      <td>0</td>\n",
       "      <td>0</td>\n",
       "      <td>0</td>\n",
       "      <td>XNA</td>\n",
       "      <td>0</td>\n",
       "    </tr>\n",
       "    <tr>\n",
       "      <th>307508</th>\n",
       "      <td>Cash loans</td>\n",
       "      <td>F</td>\n",
       "      <td>N</td>\n",
       "      <td>Y</td>\n",
       "      <td>0</td>\n",
       "      <td>153000.0</td>\n",
       "      <td>677664.0</td>\n",
       "      <td>29979.0</td>\n",
       "      <td>585000.0</td>\n",
       "      <td>Unaccompanied</td>\n",
       "      <td>...</td>\n",
       "      <td>Managers</td>\n",
       "      <td>1.0</td>\n",
       "      <td>0</td>\n",
       "      <td>0</td>\n",
       "      <td>0</td>\n",
       "      <td>0</td>\n",
       "      <td>1</td>\n",
       "      <td>1</td>\n",
       "      <td>School</td>\n",
       "      <td>0</td>\n",
       "    </tr>\n",
       "    <tr>\n",
       "      <th>307509</th>\n",
       "      <td>Cash loans</td>\n",
       "      <td>F</td>\n",
       "      <td>N</td>\n",
       "      <td>Y</td>\n",
       "      <td>0</td>\n",
       "      <td>171000.0</td>\n",
       "      <td>370107.0</td>\n",
       "      <td>20205.0</td>\n",
       "      <td>319500.0</td>\n",
       "      <td>Unaccompanied</td>\n",
       "      <td>...</td>\n",
       "      <td>Laborers</td>\n",
       "      <td>2.0</td>\n",
       "      <td>0</td>\n",
       "      <td>0</td>\n",
       "      <td>0</td>\n",
       "      <td>1</td>\n",
       "      <td>1</td>\n",
       "      <td>0</td>\n",
       "      <td>Business Entity Type 1</td>\n",
       "      <td>1</td>\n",
       "    </tr>\n",
       "    <tr>\n",
       "      <th>307510</th>\n",
       "      <td>Cash loans</td>\n",
       "      <td>F</td>\n",
       "      <td>N</td>\n",
       "      <td>N</td>\n",
       "      <td>0</td>\n",
       "      <td>157500.0</td>\n",
       "      <td>675000.0</td>\n",
       "      <td>49117.5</td>\n",
       "      <td>675000.0</td>\n",
       "      <td>Unaccompanied</td>\n",
       "      <td>...</td>\n",
       "      <td>Laborers</td>\n",
       "      <td>2.0</td>\n",
       "      <td>0</td>\n",
       "      <td>0</td>\n",
       "      <td>0</td>\n",
       "      <td>0</td>\n",
       "      <td>1</td>\n",
       "      <td>1</td>\n",
       "      <td>Business Entity Type 3</td>\n",
       "      <td>0</td>\n",
       "    </tr>\n",
       "  </tbody>\n",
       "</table>\n",
       "<p>307511 rows × 35 columns</p>\n",
       "</div>"
      ],
      "text/plain": [
       "       NAME_CONTRACT_TYPE CODE_GENDER FLAG_OWN_CAR FLAG_OWN_REALTY  \\\n",
       "0              Cash loans           M            N               Y   \n",
       "1              Cash loans           F            N               N   \n",
       "2         Revolving loans           M            Y               Y   \n",
       "3              Cash loans           F            N               Y   \n",
       "4              Cash loans           M            N               Y   \n",
       "...                   ...         ...          ...             ...   \n",
       "307506         Cash loans           M            N               N   \n",
       "307507         Cash loans           F            N               Y   \n",
       "307508         Cash loans           F            N               Y   \n",
       "307509         Cash loans           F            N               Y   \n",
       "307510         Cash loans           F            N               N   \n",
       "\n",
       "        CNT_CHILDREN  AMT_INCOME_TOTAL  AMT_CREDIT  AMT_ANNUITY  \\\n",
       "0                  0          202500.0    406597.5      24700.5   \n",
       "1                  0          270000.0   1293502.5      35698.5   \n",
       "2                  0           67500.0    135000.0       6750.0   \n",
       "3                  0          135000.0    312682.5      29686.5   \n",
       "4                  0          121500.0    513000.0      21865.5   \n",
       "...              ...               ...         ...          ...   \n",
       "307506             0          157500.0    254700.0      27558.0   \n",
       "307507             0           72000.0    269550.0      12001.5   \n",
       "307508             0          153000.0    677664.0      29979.0   \n",
       "307509             0          171000.0    370107.0      20205.0   \n",
       "307510             0          157500.0    675000.0      49117.5   \n",
       "\n",
       "        AMT_GOODS_PRICE NAME_TYPE_SUITE  ... OCCUPATION_TYPE CNT_FAM_MEMBERS  \\\n",
       "0              351000.0   Unaccompanied  ...        Laborers             1.0   \n",
       "1             1129500.0          Family  ...      Core staff             2.0   \n",
       "2              135000.0   Unaccompanied  ...        Laborers             1.0   \n",
       "3              297000.0   Unaccompanied  ...        Laborers             2.0   \n",
       "4              513000.0   Unaccompanied  ...      Core staff             1.0   \n",
       "...                 ...             ...  ...             ...             ...   \n",
       "307506         225000.0   Unaccompanied  ...     Sales staff             1.0   \n",
       "307507         225000.0   Unaccompanied  ...             NaN             1.0   \n",
       "307508         585000.0   Unaccompanied  ...        Managers             1.0   \n",
       "307509         319500.0   Unaccompanied  ...        Laborers             2.0   \n",
       "307510         675000.0   Unaccompanied  ...        Laborers             2.0   \n",
       "\n",
       "       REG_REGION_NOT_LIVE_REGION REG_REGION_NOT_WORK_REGION  \\\n",
       "0                               0                          0   \n",
       "1                               0                          0   \n",
       "2                               0                          0   \n",
       "3                               0                          0   \n",
       "4                               0                          0   \n",
       "...                           ...                        ...   \n",
       "307506                          0                          0   \n",
       "307507                          0                          0   \n",
       "307508                          0                          0   \n",
       "307509                          0                          0   \n",
       "307510                          0                          0   \n",
       "\n",
       "        LIVE_REGION_NOT_WORK_REGION  REG_CITY_NOT_LIVE_CITY  \\\n",
       "0                                 0                       0   \n",
       "1                                 0                       0   \n",
       "2                                 0                       0   \n",
       "3                                 0                       0   \n",
       "4                                 0                       0   \n",
       "...                             ...                     ...   \n",
       "307506                            0                       0   \n",
       "307507                            0                       0   \n",
       "307508                            0                       0   \n",
       "307509                            0                       1   \n",
       "307510                            0                       0   \n",
       "\n",
       "        REG_CITY_NOT_WORK_CITY  LIVE_CITY_NOT_WORK_CITY  \\\n",
       "0                            0                        0   \n",
       "1                            0                        0   \n",
       "2                            0                        0   \n",
       "3                            0                        0   \n",
       "4                            1                        1   \n",
       "...                        ...                      ...   \n",
       "307506                       0                        0   \n",
       "307507                       0                        0   \n",
       "307508                       1                        1   \n",
       "307509                       1                        0   \n",
       "307510                       1                        1   \n",
       "\n",
       "             ORGANIZATION_TYPE  TARGET  \n",
       "0       Business Entity Type 3       1  \n",
       "1                       School       0  \n",
       "2                   Government       0  \n",
       "3       Business Entity Type 3       0  \n",
       "4                     Religion       0  \n",
       "...                        ...     ...  \n",
       "307506                Services       0  \n",
       "307507                     XNA       0  \n",
       "307508                  School       0  \n",
       "307509  Business Entity Type 1       1  \n",
       "307510  Business Entity Type 3       0  \n",
       "\n",
       "[307511 rows x 35 columns]"
      ]
     },
     "execution_count": 6,
     "metadata": {},
     "output_type": "execute_result"
    }
   ],
   "source": [
    "df"
   ]
  },
  {
   "cell_type": "code",
   "execution_count": 7,
   "metadata": {},
   "outputs": [],
   "source": [
    "# 1. Cleanse\n",
    "# Look for null data in the table, and use the appropriate strategy to handle null data for each column. \n",
    "# Explain why this was the strategy that you used.\n",
    "\n",
    "# We have two strategies that we saw in class:\n",
    "# 1. Drop the column entirely if it's not helpful data\n",
    "# 2. Fill the null data with a descriptive statistic (mean, median, mode)"
   ]
  },
  {
   "cell_type": "code",
   "execution_count": 8,
   "metadata": {},
   "outputs": [
    {
     "name": "stdout",
     "output_type": "stream",
     "text": [
      "<class 'pandas.core.frame.DataFrame'>\n",
      "RangeIndex: 307511 entries, 0 to 307510\n",
      "Data columns (total 35 columns):\n",
      " #   Column                       Non-Null Count   Dtype  \n",
      "---  ------                       --------------   -----  \n",
      " 0   NAME_CONTRACT_TYPE           307511 non-null  object \n",
      " 1   CODE_GENDER                  307511 non-null  object \n",
      " 2   FLAG_OWN_CAR                 307511 non-null  object \n",
      " 3   FLAG_OWN_REALTY              307511 non-null  object \n",
      " 4   CNT_CHILDREN                 307511 non-null  int64  \n",
      " 5   AMT_INCOME_TOTAL             307511 non-null  float64\n",
      " 6   AMT_CREDIT                   307511 non-null  float64\n",
      " 7   AMT_ANNUITY                  307499 non-null  float64\n",
      " 8   AMT_GOODS_PRICE              307233 non-null  float64\n",
      " 9   NAME_TYPE_SUITE              306219 non-null  object \n",
      " 10  NAME_INCOME_TYPE             307511 non-null  object \n",
      " 11  NAME_EDUCATION_TYPE          307511 non-null  object \n",
      " 12  NAME_FAMILY_STATUS           307511 non-null  object \n",
      " 13  NAME_HOUSING_TYPE            307511 non-null  object \n",
      " 14  DAYS_BIRTH                   307511 non-null  int64  \n",
      " 15  DAYS_EMPLOYED                307511 non-null  int64  \n",
      " 16  DAYS_REGISTRATION            307511 non-null  float64\n",
      " 17  DAYS_ID_PUBLISH              307511 non-null  int64  \n",
      " 18  OWN_CAR_AGE                  104582 non-null  float64\n",
      " 19  FLAG_MOBIL                   307511 non-null  int64  \n",
      " 20  FLAG_EMP_PHONE               307511 non-null  int64  \n",
      " 21  FLAG_WORK_PHONE              307511 non-null  int64  \n",
      " 22  FLAG_CONT_MOBILE             307511 non-null  int64  \n",
      " 23  FLAG_PHONE                   307511 non-null  int64  \n",
      " 24  FLAG_EMAIL                   307511 non-null  int64  \n",
      " 25  OCCUPATION_TYPE              211120 non-null  object \n",
      " 26  CNT_FAM_MEMBERS              307509 non-null  float64\n",
      " 27  REG_REGION_NOT_LIVE_REGION   307511 non-null  int64  \n",
      " 28  REG_REGION_NOT_WORK_REGION   307511 non-null  int64  \n",
      " 29  LIVE_REGION_NOT_WORK_REGION  307511 non-null  int64  \n",
      " 30  REG_CITY_NOT_LIVE_CITY       307511 non-null  int64  \n",
      " 31  REG_CITY_NOT_WORK_CITY       307511 non-null  int64  \n",
      " 32  LIVE_CITY_NOT_WORK_CITY      307511 non-null  int64  \n",
      " 33  ORGANIZATION_TYPE            307511 non-null  object \n",
      " 34  TARGET                       307511 non-null  int64  \n",
      "dtypes: float64(7), int64(17), object(11)\n",
      "memory usage: 82.1+ MB\n"
     ]
    }
   ],
   "source": [
    "df.info()\n",
    "#df.info()\n",
    "#We see that the following six columns have null data:\n",
    "#AMT_ANNUITY (index 7), AMT_GOODS_PRICE (index 8), NAME_TYPE_SUITE (index 9), OWN_CAR_AGE (index 18), \n",
    "#OCCUPATION_TYPE (index 25), CNT_FAM_MEMBERS (index 26)\n",
    "#Note: These indices refer to the latest dataframe where two columns have been dropped."
   ]
  },
  {
   "cell_type": "code",
   "execution_count": null,
   "metadata": {},
   "outputs": [],
   "source": [
    "#a. AMT_ANNUITY; Description: Loan Annuity\n",
    "#Strategy: Fill the null data with the median value. \n",
    "#I decided to choose this strategy because the AMT_ANNUITY column provides important information about\n",
    "#how much each person is paying. \n",
    "med1 = df['AMT_ANNUITY'].median()\n",
    "med1\n",
    "#Median: $24903\n",
    "#med1 = df['AMT_ANNUITY'].median()\n",
    "#med1"
   ]
  },
  {
   "cell_type": "code",
   "execution_count": null,
   "metadata": {},
   "outputs": [],
   "source": [
    "df['AMT_ANNUITY'].fillna(med1, inplace=True)\n",
    "df.info() #We see that the null values have now been filled for the AMT_ANNUITY column!\n",
    "#df['AMT_ANNUITY'].fillna(med1, inplace=True)\n",
    "#df.info()"
   ]
  },
  {
   "cell_type": "code",
   "execution_count": null,
   "metadata": {},
   "outputs": [],
   "source": [
    "#b. AMT_GOODS_PRICE; Description: For consumer loans it is the price of the goods for which the loan is given\n",
    "#Strategy: Fill the null data with the median value. \n",
    "#I decided to choose this strategy because the AMT_GOODS_PRICE column provides important information about\n",
    "#how much the goods, for which the loan was given, cost.\n",
    "med2 = df['AMT_GOODS_PRICE'].median()\n",
    "med2\n",
    "#Median: $450,000\n",
    "#med2 = df['AMT_GOODS_PRICE'].median()"
   ]
  },
  {
   "cell_type": "code",
   "execution_count": null,
   "metadata": {},
   "outputs": [],
   "source": [
    "df['AMT_GOODS_PRICE'].fillna(med2, inplace=True)\n",
    "df.info() #We see that the null values have now been filled!"
   ]
  },
  {
   "cell_type": "code",
   "execution_count": null,
   "metadata": {},
   "outputs": [],
   "source": [
    "#c. NAME_TYPE_SUITE; Description: Who was accompanying client when he was applying for the loan\n",
    "#Strategy: Drop the column entirely\n",
    "#I decided to choose this strategy because the NAME_TYPE_SUITE column does not provide helpful information. \n",
    "#The person accompanying the client is irrelevant to what we are interested in, namely, how fiscally\n",
    "#responsible the person is.\n",
    "del df['NAME_TYPE_SUITE']"
   ]
  },
  {
   "cell_type": "code",
   "execution_count": null,
   "metadata": {},
   "outputs": [],
   "source": [
    "df.info() #Check that the column has been deleted"
   ]
  },
  {
   "cell_type": "code",
   "execution_count": null,
   "metadata": {},
   "outputs": [],
   "source": [
    "#d. OWN_CAR_AGE; Description: Age of client's car\n",
    "#Strategy: Drop the column entirely\n",
    "#I decided to choose this strategy because I deem the OWN_CAR_AGE column as not providing helpful information. \n",
    "#The age of the client's car is irrelevant to what we are interested in, namely, how fiscally\n",
    "#responsible the person is.\n",
    "del df['OWN_CAR_AGE']"
   ]
  },
  {
   "cell_type": "code",
   "execution_count": null,
   "metadata": {},
   "outputs": [],
   "source": [
    "df.info() #Check that the column has been deleted"
   ]
  },
  {
   "cell_type": "code",
   "execution_count": null,
   "metadata": {},
   "outputs": [],
   "source": [
    "#e. OCCUPATION_TYPE; Description: What kind of occupation does the client have\n",
    "#Strategy: Fill the null data with NA.\n",
    "#I decided to choose this strategy because the OCCUPATION_TYPE column provides relevant information about\n",
    "#the person's industry which is related to their socioeconomic status (SES). Their SES may correlate with\n",
    "#their level of fiscal responsibility. However, unlike the numerical data columns, this column contains\n",
    "#categorical data, which makes it harder to generalize a default fill-in value. Therefore, I decided to fill it\n",
    "#with the string 'NA'.\n",
    "df['OCCUPATION_TYPE'].fillna('NA', inplace=True)"
   ]
  },
  {
   "cell_type": "code",
   "execution_count": null,
   "metadata": {},
   "outputs": [],
   "source": [
    "df.info() #We see that the null values have now been filled."
   ]
  },
  {
   "cell_type": "code",
   "execution_count": null,
   "metadata": {},
   "outputs": [],
   "source": [
    "#f. CNT_FAM_MEMBERS; How many family members does client have\n",
    "#Strategy: Fill the null data with the mode.\n",
    "#I decided to choose this strategy because the CNT_FAM_MEMBERS column provides information about the person's\n",
    "#family size which may relate to their cost of living. Though I predict a weak correlation between family size\n",
    "#and the person defaulting on his/her loan, it may still be of interest. Here I choose to fill\n",
    "#the null data with the median as I did for the other columns.\n",
    "med3 = df['CNT_FAM_MEMBERS'].median()\n",
    "med3"
   ]
  },
  {
   "cell_type": "code",
   "execution_count": null,
   "metadata": {},
   "outputs": [],
   "source": [
    "df['CNT_FAM_MEMBERS'].fillna(med3, inplace=True)"
   ]
  },
  {
   "cell_type": "code",
   "execution_count": null,
   "metadata": {},
   "outputs": [],
   "source": [
    "df.info() #We see that the null values have now been filled.\n",
    "#Part 1 complete!"
   ]
  },
  {
   "cell_type": "code",
   "execution_count": null,
   "metadata": {},
   "outputs": [],
   "source": [
    "# 2. Outliers\n",
    "# Search the data for outliers and remove them. Use the appropriate outlier method(s). Show all work.\n",
    "df.describe() #data frame statistics\n",
    "#Outliers to consider: \n",
    "#a. CNT_CHILDREN: max: 19 children\n",
    "#b. AMT_INCOME_TOTAL: max: 1.17 x 10^8\n",
    "#c. AMT_ANNUITY: max: $258025.50; compare with the mean of $27108.49\n",
    "#d. CNT_FAM_MEMBERS: max: 20 members\n",
    "\n",
    "#Note to Prof. Feldman: I would consider the AMT_INCOME_TOTAL and the AMT_ANNUITY maxima to be valid data points.\n",
    "#However, I interpreted this second part of the project as an exercise in removing outliers. Statistically,\n",
    "#we can consider these to be outliers but if I were to actually complete this as a statistics project, I would\n",
    "#keep these two maxima because it is plausible to have someone whose income is $1.17 x 10^8 and someone's\n",
    "#annuity amount to be $258025.50.\n",
    "#The CNT_CHILDREN and CNT_FAM_MEMBERS extrema seem improbable, though not impossible. My final decision\n",
    "#was to remove these two maxima."
   ]
  },
  {
   "cell_type": "code",
   "execution_count": null,
   "metadata": {},
   "outputs": [],
   "source": [
    "#a. CNT_CHILDREN outliers\n",
    "plt.scatter(df['CNT_CHILDREN'], df['CNT_CHILDREN']) #checking to see if there are other outliers besides the \n",
    "#data point of 19 children\n",
    "plt.show\n",
    "#plt.scatter(df['CNT_CHILDREN'], df['CNT_CHILDREN'])"
   ]
  },
  {
   "cell_type": "code",
   "execution_count": null,
   "metadata": {},
   "outputs": [],
   "source": [
    "#the maximum value for CNT_CHILDREN (a max value of 19) is well above the other values\n",
    "childrenMax = df['CNT_CHILDREN'].max()\n",
    "childrenMax\n",
    "#childrenMax = df['CNT_CHILDREN'].max()\n",
    "#childrenMax"
   ]
  },
  {
   "cell_type": "code",
   "execution_count": null,
   "metadata": {},
   "outputs": [],
   "source": [
    "childrenMaxIndex = df[df['CNT_CHILDREN']==childrenMax].index.values\n",
    "childrenMaxIndex\n",
    "#Indices: 155369, 265784\n",
    "#childrenMaxIndex = df[df['CNT_CHILDREN']==childrenMax].index.values"
   ]
  },
  {
   "cell_type": "code",
   "execution_count": null,
   "metadata": {},
   "outputs": [],
   "source": [
    "df = df.drop(childrenMaxIndex)\n",
    "#df = df.drop(childrenMaxIndex)"
   ]
  },
  {
   "cell_type": "code",
   "execution_count": null,
   "metadata": {},
   "outputs": [],
   "source": [
    "df.describe() #Check to see that the two outliers have been dropped\n",
    "#Success! The maximum for CNT_CHILDREN is now 14."
   ]
  },
  {
   "cell_type": "code",
   "execution_count": null,
   "metadata": {},
   "outputs": [],
   "source": [
    "plt.scatter(df['CNT_CHILDREN'], df['CNT_CHILDREN']) #checking the data points again\n",
    "plt.show\n",
    "#We now have a much more compact data set in terms of CNT_CHILDREN."
   ]
  },
  {
   "cell_type": "code",
   "execution_count": null,
   "metadata": {},
   "outputs": [],
   "source": [
    "#b. AMT_INCOME_TOTAL outliers\n",
    "plt.scatter(df['AMT_INCOME_TOTAL'], df['AMT_INCOME_TOTAL']) #checking to see if there are other outliers besides the \n",
    "#data point of $1.17 x 10^8\n",
    "plt.show"
   ]
  },
  {
   "cell_type": "code",
   "execution_count": null,
   "metadata": {},
   "outputs": [],
   "source": [
    "#We see from the scatterplot that the data point of $1.17 x 10^8 is far above the others. Let's remove it.\n",
    "amtIncomeMax = df['AMT_INCOME_TOTAL'].max()\n",
    "amtIncomeMax\n",
    "#117,000,000"
   ]
  },
  {
   "cell_type": "code",
   "execution_count": null,
   "metadata": {},
   "outputs": [],
   "source": [
    "amtIncomeMaxIndex = df[df['AMT_INCOME_TOTAL']==amtIncomeMax].index.values\n",
    "amtIncomeMaxIndex\n",
    "#Index: 12840\n",
    "#amtIncomeMaxIndex = df[df['AMT_INCOME_TOTAL']==amtIncomeMax].index.values"
   ]
  },
  {
   "cell_type": "code",
   "execution_count": null,
   "metadata": {},
   "outputs": [],
   "source": [
    "df = df.drop(amtIncomeMaxIndex)"
   ]
  },
  {
   "cell_type": "code",
   "execution_count": null,
   "metadata": {},
   "outputs": [],
   "source": [
    "df.describe()"
   ]
  },
  {
   "cell_type": "code",
   "execution_count": null,
   "metadata": {},
   "outputs": [],
   "source": [
    "plt.scatter(df['AMT_INCOME_TOTAL'], df['AMT_INCOME_TOTAL']) #checking the data points again\n",
    "plt.show\n",
    "#We now have a more compact data set in terms of AMT_INCOME_TOTAL but it's still spread out.\n",
    "#Let's drop values using the IQR."
   ]
  },
  {
   "cell_type": "code",
   "execution_count": null,
   "metadata": {},
   "outputs": [],
   "source": [
    "#Find Inter Quartile Range (IQR)\n",
    "#Find the middle of the range between quantile 1 and quantile 3\n",
    "Q1 = df.quantile(0.25)\n",
    "Q3 = df.quantile(0.75)\n",
    "#subtract Q3 from Q1 - this will give the desired range of data \n",
    "IQR = Q3 - Q1\n",
    "#here are the ranges for the entire table\n",
    "print(IQR)\n",
    "#Q1 = df.quantile(0.25)\n",
    "#Q3 = df.quantile(0.75)\n",
    "#IQR = Q3-Q1\n",
    "#print(IQR)"
   ]
  },
  {
   "cell_type": "code",
   "execution_count": null,
   "metadata": {},
   "outputs": [],
   "source": [
    "#IQR just for the AMT_INCOME_TOTAL column\n",
    "IQRincomeTotal =  Q3['AMT_INCOME_TOTAL'] - Q1['AMT_INCOME_TOTAL']\n",
    "IQRincomeTotal"
   ]
  },
  {
   "cell_type": "code",
   "execution_count": null,
   "metadata": {},
   "outputs": [],
   "source": [
    "#set the lower acceptable limit\n",
    "#any value less than Q1 - (1.5*IQR) will be considered an outlier\n",
    "below = Q1['AMT_INCOME_TOTAL'] - 1.5 * IQRincomeTotal\n",
    "below\n",
    "#A negative value of -22500 so there won't be any lower outliers"
   ]
  },
  {
   "cell_type": "code",
   "execution_count": null,
   "metadata": {},
   "outputs": [],
   "source": [
    "#set the higher acceptable limit\n",
    "#any value above Q3 + (3*IQR) will be considered an outlier \n",
    "above = Q3['AMT_INCOME_TOTAL'] + 3 * IQRincomeTotal\n",
    "above\n",
    "#Note: After seeing the initial higher limit of $337,500.00, I decided to change the outlier coefficient from\n",
    "#1.5 to 3 to exclude only the extreme outliers.\n",
    "#above = 472500.0"
   ]
  },
  {
   "cell_type": "code",
   "execution_count": null,
   "metadata": {},
   "outputs": [],
   "source": [
    "#Anything outside of above ($472,500.00) and below ($-22,500) will be considered an outlier.\n",
    "#The rows below are outliers. They are outside of the range of above and below.\n",
    "#This will show the list of outliers.\n",
    "df.loc[(df['AMT_INCOME_TOTAL']<below) | (df['AMT_INCOME_TOTAL'] > above)]\n",
    "#df.loc[(df['AMT_INCOME_TOTAL'] < below) | (df['AMT_INCOME_TOTAL'] > above)]"
   ]
  },
  {
   "cell_type": "code",
   "execution_count": null,
   "metadata": {},
   "outputs": [],
   "source": [
    "#Now we will create a new dataframe with only the non outliers.\n",
    "#Notice how the logic is flipped from the above statement.\n",
    "#This excludes all outliers and is written to a new dataframe.\n",
    "#To save keystrokes later on, I'll call it df2 instead of df_no_outlier\n",
    "df2 = df.loc[(df['AMT_INCOME_TOTAL'] >= below) & (df['AMT_INCOME_TOTAL'] <= above)] \n",
    "df2\n",
    "#At this point, there are now 304495 entries compared to the 307511 we started with. \n",
    "#df2=df.loc[(df['AMT_INCOME_TOTAL'] >= below) & (df['AMT_INCOME_TOTAL'] <= above)]"
   ]
  },
  {
   "cell_type": "code",
   "execution_count": null,
   "metadata": {},
   "outputs": [],
   "source": [
    "plt.scatter(df2['AMT_INCOME_TOTAL'], df2['AMT_INCOME_TOTAL']) #checking the data points again\n",
    "plt.show\n",
    "#Now very compact in terms of income!"
   ]
  },
  {
   "cell_type": "code",
   "execution_count": null,
   "metadata": {},
   "outputs": [],
   "source": [
    "#c. AMT_ANNUITY outliers\n",
    "plt.scatter(df2['AMT_ANNUITY'], df2['AMT_ANNUITY']) #let's examine the AMT_ANNUITY column\n",
    "plt.show"
   ]
  },
  {
   "cell_type": "code",
   "execution_count": null,
   "metadata": {},
   "outputs": [],
   "source": [
    "#After dropping the outliers in the AMT_INCOME_TOTAL column,\n",
    "#the original maximum for AMT_ANNUITY ($258,025.50) was dropped as well.\n",
    "amtAnnuityMax = df2['AMT_ANNUITY'].max()\n",
    "amtAnnuityMax\n",
    "#The new maximum is $225,000.00"
   ]
  },
  {
   "cell_type": "code",
   "execution_count": null,
   "metadata": {},
   "outputs": [],
   "source": [
    "amtAnnuityMaxIndex = df2[df2['AMT_ANNUITY']==amtAnnuityMax].index.values\n",
    "amtAnnuityMaxIndex\n",
    "#Indices: 15501,  32100, 144204, 145707, 265026"
   ]
  },
  {
   "cell_type": "code",
   "execution_count": null,
   "metadata": {},
   "outputs": [],
   "source": [
    "#We no longer have an outlier value to drop in AMT_ANNUITY (since we dropped them when dealing with the\n",
    "#AMT_INCOME_TOTAL column)."
   ]
  },
  {
   "cell_type": "code",
   "execution_count": null,
   "metadata": {},
   "outputs": [],
   "source": [
    "#d. CNT_FAM_MEMBERS outliers\n",
    "plt.scatter(df2['CNT_FAM_MEMBERS'], df2['CNT_FAM_MEMBERS']) #And now let's explore the CNT_FAM_MEMBERS column\n",
    "plt.show\n",
    "#It seems the original outlier of 20 family members has been removed so no need to remove any more data points\n",
    "#from this column."
   ]
  },
  {
   "cell_type": "code",
   "execution_count": null,
   "metadata": {},
   "outputs": [],
   "source": [
    "#After dropping everything, let's reset the index values:\n",
    "df2 = df2.reset_index(drop=True)\n",
    "df2\n",
    "#df2 = df2.reset_index(drop=True)"
   ]
  },
  {
   "cell_type": "code",
   "execution_count": null,
   "metadata": {},
   "outputs": [],
   "source": [
    "#Part 2 complete!"
   ]
  },
  {
   "cell_type": "code",
   "execution_count": null,
   "metadata": {},
   "outputs": [],
   "source": [
    "# 3. Who are our clients?\n",
    "# The ABC Management team has no idea who their customers are. They don’t know anything about the type of \n",
    "# employment and age, income of their clients. They need to know some macro information about their data.  \n",
    "# How much (total) do they have out in loans? How much are in default/late? What percentage of the business are \n",
    "# default and late?\n",
    "# Along with the information above, provide three other demographics of their customers.\n",
    "# Remember, we are dealing with senior management. The charts must be readable, meaningful and at a summary level.\n",
    "# Use at least one groupby or bin in your analysis."
   ]
  },
  {
   "cell_type": "code",
   "execution_count": null,
   "metadata": {},
   "outputs": [],
   "source": [
    "#a. Type of employment\n",
    "dfEmploySub = df2.groupby(['OCCUPATION_TYPE'])['OCCUPATION_TYPE'].count()\n",
    "#dfEmploySub = df2.groupby(['OCCUPATION_TYPE'])['OCCUPATION_TYPE'].count()"
   ]
  },
  {
   "cell_type": "code",
   "execution_count": null,
   "metadata": {},
   "outputs": [],
   "source": [
    "dfEmploySub"
   ]
  },
  {
   "cell_type": "code",
   "execution_count": null,
   "metadata": {},
   "outputs": [],
   "source": [
    "type(dfEmploySub)"
   ]
  },
  {
   "cell_type": "code",
   "execution_count": null,
   "metadata": {},
   "outputs": [],
   "source": [
    "dfEmploySub.plot(kind = 'barh', title = 'Occupation Types of Our Clients')\n",
    "plt.xlabel('Number of Clients')\n",
    "plt.ylabel('Occupation Type')\n",
    "#We see that, unfortunately, almost 100,000 clients did not provide information about their occupation type.\n",
    "#The industries with the largest counts among our clients are laborers, sales staff, core staff, and managers.\n",
    "#dfEmploySub.plot(kind = 'barh', title = 'Occupation Type of Our Clients')\n",
    "#plt.xlabel('Number of Clients')\n",
    "#plt.ylabel('Occupation Type')"
   ]
  },
  {
   "cell_type": "code",
   "execution_count": null,
   "metadata": {},
   "outputs": [],
   "source": [
    "#b. Age of Clients\n",
    "#Adding in an age column since our dataset has their age in days at the time of application.\n",
    "#And it's a negative number so I will divide by negative 365 days.\n",
    "df2['AGE'] = df2['DAYS_BIRTH']/(-365)\n",
    "#df2['AGE'] = df2['DAYS_BIRTH']/(-365)"
   ]
  },
  {
   "cell_type": "code",
   "execution_count": null,
   "metadata": {},
   "outputs": [],
   "source": [
    "df2"
   ]
  },
  {
   "cell_type": "code",
   "execution_count": null,
   "metadata": {},
   "outputs": [],
   "source": [
    "#For exam:\n",
    "df2.describe()\n",
    "df2['Age Bin'] = pd.cut(df2['AGE'], bins = [20, 25, 30, 35, 40, 45, 50, 55, 60, 65, 70])\n",
    "#create a new column in the dataframe\n",
    "#use the cut method\n",
    "df2['Age Bin']\n",
    "(df2[['Age Bin', 'AGE']])\n",
    "\n",
    "#Let's give our own bin names\n",
    "df2['Age Bin'] = pd.cut(df2['AGE'], \n",
    "                        [20, 25, 30, 35, 40, 45, 50, 55, 60, 65, 70], \n",
    "                        labels=['20-25','25-30','30-35','35-40','40-45','45-50', '50-55', '55-60', '60-65', '65-70'])\n",
    "df2\n",
    "\n",
    "#Make sure that all buckets are filled or there may be issues running the report!\n",
    "df2.info()\n",
    "#Verified that the new Age Bin column has no null values (304495 non-null)."
   ]
  },
  {
   "cell_type": "code",
   "execution_count": null,
   "metadata": {},
   "outputs": [],
   "source": [
    "#Check the spread of the age data before creating bins:\n",
    "plt.scatter(df2['AGE'], df2['AGE']) \n",
    "plt.show\n",
    "#plt.scatter(df2['AGE'], df2['AGE'])"
   ]
  },
  {
   "cell_type": "code",
   "execution_count": null,
   "metadata": {},
   "outputs": [],
   "source": [
    "df2.describe()\n",
    "#Min age is 20.517808; Max age is 69.120548"
   ]
  },
  {
   "cell_type": "code",
   "execution_count": null,
   "metadata": {},
   "outputs": [],
   "source": [
    "df2['Age Bin'] = pd.cut(df2['AGE'], bins = [20, 25, 30, 35, 40, 45, 50, 55, 60, 65, 70])\n",
    "#create a new column in the dataframe\n",
    "#use the cut method"
   ]
  },
  {
   "cell_type": "code",
   "execution_count": null,
   "metadata": {},
   "outputs": [],
   "source": [
    "df2['Age Bin']"
   ]
  },
  {
   "cell_type": "code",
   "execution_count": null,
   "metadata": {},
   "outputs": [],
   "source": [
    "(df2[['Age Bin', 'AGE']])"
   ]
  },
  {
   "cell_type": "code",
   "execution_count": null,
   "metadata": {},
   "outputs": [],
   "source": [
    "#Let's give our own bin names\n",
    "df2['Age Bin'] = pd.cut(df2['AGE'], \n",
    "                        [20, 25, 30, 35, 40, 45, 50, 55, 60, 65, 70], \n",
    "                        labels=['20-25','25-30','30-35','35-40','40-45','45-50', '50-55', '55-60', '60-65', '65-70'])\n",
    "df2\n",
    "#Note to Prof. Feldman: I know that in our class example we did not overlap the labels but I decided to do so here.\n",
    "#The original labels were '20-25', '26-30', etc. However, if we label it this way, the first data point with\n",
    "#an age of 25.92 would fall under the label '26-30' which would be incorrect."
   ]
  },
  {
   "cell_type": "code",
   "execution_count": null,
   "metadata": {},
   "outputs": [],
   "source": [
    "#Make sure that all buckets are filled or there may be issues running the report!\n",
    "df2.info()\n",
    "#Verified that the new Age Bin column has no null values (304495 non-null)."
   ]
  },
  {
   "cell_type": "code",
   "execution_count": null,
   "metadata": {},
   "outputs": [],
   "source": [
    "#Exam:\n",
    "df2.head(50)\n",
    "dfAgeSub = df2.groupby(['Age Bin'])['Age Bin'].count() #isolate the Age Bin column\n",
    "dfAgeSub\n",
    "dfAgeSub.plot(kind = 'bar', title = 'Ages of Our Clients')\n",
    "plt.xlabel('Age Groups')\n",
    "plt.ylabel('Number of Clients')\n",
    "#We see that the age group with the most clients is the 35-40 age group."
   ]
  },
  {
   "cell_type": "code",
   "execution_count": null,
   "metadata": {},
   "outputs": [],
   "source": [
    "df2.head(50)"
   ]
  },
  {
   "cell_type": "code",
   "execution_count": null,
   "metadata": {},
   "outputs": [],
   "source": [
    "dfAgeSub = df2.groupby(['Age Bin'])['Age Bin'].count() #isolate the Age Bin column"
   ]
  },
  {
   "cell_type": "code",
   "execution_count": null,
   "metadata": {},
   "outputs": [],
   "source": [
    "dfAgeSub"
   ]
  },
  {
   "cell_type": "code",
   "execution_count": null,
   "metadata": {},
   "outputs": [],
   "source": [
    "dfAgeSub.plot(kind = 'bar', title = 'Ages of Our Clients')\n",
    "plt.xlabel('Age Groups')\n",
    "plt.ylabel('Number of Clients')\n",
    "#We see that the age group with the most clients is the 35-40 age group."
   ]
  },
  {
   "cell_type": "code",
   "execution_count": null,
   "metadata": {},
   "outputs": [],
   "source": [
    "#Note to self/Prof. Feldman: I originally tried using the following code to graph age. \n",
    "#This code mimics what we did in class but I ran into errors running these.\n",
    "\n",
    "#Attempt 1:\n",
    "#df2.plot(x=df2['Age Bin'], y=df2['AGE'], kind = 'bar', title = 'Ages of Our Clients')\n",
    "\n",
    "#Attempt 2:\n",
    "#A simple bar plot\n",
    "#plt.bar(df2['Age Bin'], df2['AGE'], color = 'b')\n",
    "#plt.show()"
   ]
  },
  {
   "cell_type": "code",
   "execution_count": null,
   "metadata": {},
   "outputs": [],
   "source": [
    "#c. Income of Clients\n",
    "#Check the spread of the age data before creating bins:\n",
    "plt.scatter(df2['AMT_INCOME_TOTAL'], df2['AMT_INCOME_TOTAL']) \n",
    "plt.show()"
   ]
  },
  {
   "cell_type": "code",
   "execution_count": null,
   "metadata": {},
   "outputs": [],
   "source": [
    "df2.describe()"
   ]
  },
  {
   "cell_type": "code",
   "execution_count": null,
   "metadata": {},
   "outputs": [],
   "source": [
    "#create a new column called Income Bin in the dataframe using the cut method\n",
    "df2['Income Bin'] = pd.cut(df2['AMT_INCOME_TOTAL'], \n",
    "                           bins = [0, 50000, 100000, 150000, 200000, 250000, 300000, 350000, 400000, 450000, 500000])"
   ]
  },
  {
   "cell_type": "code",
   "execution_count": null,
   "metadata": {},
   "outputs": [],
   "source": [
    "df2"
   ]
  },
  {
   "cell_type": "code",
   "execution_count": null,
   "metadata": {},
   "outputs": [],
   "source": [
    "#Let's give our own bin names\n",
    "df2['Income Bin'] = pd.cut(df2['AMT_INCOME_TOTAL'], \n",
    "                        [0, 50000, 100000, 150000, 200000, 250000, 300000, 350000, 400000, 450000, 500000], \n",
    "                        labels=['0-50k','50k-100k','100k-150k','150k-200k','200k-250k','250k-300k', '300k-350k', \n",
    "                                '350k-400k', '400k-450k', '450k-500k'])\n",
    "df2"
   ]
  },
  {
   "cell_type": "code",
   "execution_count": null,
   "metadata": {},
   "outputs": [],
   "source": [
    "df2[['Income Bin', 'AMT_INCOME_TOTAL']] #checking if making bins worked all right"
   ]
  },
  {
   "cell_type": "code",
   "execution_count": null,
   "metadata": {},
   "outputs": [],
   "source": [
    "df2.info() #Verifying that all Income Bin rows are filled (304495 non-null)"
   ]
  },
  {
   "cell_type": "code",
   "execution_count": null,
   "metadata": {},
   "outputs": [],
   "source": [
    "dfIncomeSub = df2.groupby(['Income Bin'])['Income Bin'].count() #Isolate the Income Bin column\n",
    "dfIncomeSub"
   ]
  },
  {
   "cell_type": "code",
   "execution_count": null,
   "metadata": {},
   "outputs": [],
   "source": [
    "dfIncomeSub.plot(kind = 'bar', title = 'The Income Profile of Our Clients')\n",
    "plt.xlabel('Income Level')\n",
    "plt.ylabel('Number of Clients')\n",
    "#Note: It's not visible on the plot but there were 125 clients in the 450k-500k income bracket.\n",
    "#We see that the majority of our clients have an income between $50,000 and $250,000.\n",
    "#There are some in the 0-50k income bracket and a minority of our clients have above $250,000."
   ]
  },
  {
   "cell_type": "code",
   "execution_count": null,
   "metadata": {},
   "outputs": [],
   "source": [
    "#d. Total out in loans\n",
    "df2['AMT_CREDIT'].sum()\n",
    "#Answer (after omitting outliers): $180,828,450,571.50 ~ 180 billion\n",
    "#Note: Before omitting any outliers, the answer was $184,207,084,195.5 ~ 184 billion"
   ]
  },
  {
   "cell_type": "code",
   "execution_count": null,
   "metadata": {},
   "outputs": [],
   "source": [
    "#e. How many loans are in default/late?\n",
    "df2['TARGET'].sum()\n",
    "#Answer: 24,663 loans are in default/late\n",
    "#Note: Before omitting any outliers, the answer was 24825 loans."
   ]
  },
  {
   "cell_type": "code",
   "execution_count": null,
   "metadata": {},
   "outputs": [],
   "source": [
    "#f. What percentage of the business are default and late?\n",
    "#The numerator uses the sum method which adds all the ones. \n",
    "#(The ones represent the loans that are in default/late.)\n",
    "#The denominator uses the count method which counts all rows.\n",
    "(df2['TARGET'].sum()/df2['TARGET'].count())*100 \n",
    "#Answer: 8.099640388183714 percent.\n",
    "#Note: Before omitting any outliers, the answer was 8.072881945686495 percent.\n",
    "#After omitting outliers, the percentage went slightly up (by 0.02).\n",
    "#(df2['TARGET'].sum()/df2['TARGET'].count())*100"
   ]
  },
  {
   "cell_type": "code",
   "execution_count": null,
   "metadata": {},
   "outputs": [],
   "source": [
    "#Three other demographics\n",
    "#g. Level of highest education the client achieved\n",
    "dfEduSub = df2.groupby(['NAME_EDUCATION_TYPE'])['NAME_EDUCATION_TYPE'].count()\n",
    "dfEduSub"
   ]
  },
  {
   "cell_type": "code",
   "execution_count": null,
   "metadata": {},
   "outputs": [],
   "source": [
    "dfEduSub.plot(kind = 'bar', title = 'Education Level of Our Clients')\n",
    "plt.xlabel('Education Level')\n",
    "plt.ylabel('Number of Clients')\n",
    "#From the plot, we see that the two largest groups in terms of the education level of our clients are \n",
    "#higher education (72,890 clients) and secondary/secondary special (217,499 clients)."
   ]
  },
  {
   "cell_type": "code",
   "execution_count": null,
   "metadata": {},
   "outputs": [],
   "source": [
    "#h. Type of organization where client works\n",
    "dfOrgSub = df2.groupby(['ORGANIZATION_TYPE'])['ORGANIZATION_TYPE'].count()\n",
    "dfOrgSub"
   ]
  },
  {
   "cell_type": "code",
   "execution_count": null,
   "metadata": {},
   "outputs": [],
   "source": [
    "fig = plt.figure(figsize=(15,5)) #Improving the display of our graph\n",
    "dfOrgSub.plot(kind = 'bar', title = 'Organization Type of Our Clients')\n",
    "plt.xlabel('Organization Type')\n",
    "plt.ylabel('Number of Clients')\n",
    "#We have many clients in non-descript categories, e.g., Industry: type n and Trade: type n.\n",
    "#The three most common categories in terms of organization type are Business Entity Type 3, Self-employed,\n",
    "#and XNA. It makes sense that many people taking out loans from our company are in the business world and \n",
    "#self-employed, perhaps entrepreneurs."
   ]
  },
  {
   "cell_type": "code",
   "execution_count": null,
   "metadata": {},
   "outputs": [],
   "source": [
    "#i. Family Status of our Clients\n",
    "dfFamSub = df2.groupby(['NAME_FAMILY_STATUS'])['NAME_FAMILY_STATUS'].count()\n",
    "dfFamSub"
   ]
  },
  {
   "cell_type": "code",
   "execution_count": null,
   "metadata": {},
   "outputs": [],
   "source": [
    "df2.info()"
   ]
  },
  {
   "cell_type": "code",
   "execution_count": null,
   "metadata": {},
   "outputs": [],
   "source": [
    "dfFamSub.plot(kind = 'bar', title = 'Family Status of Our Clients')\n",
    "plt.xlabel('Family Status')\n",
    "plt.ylabel('Number of Clients')\n",
    "#Note: There are 2 clients whose family status is unknown.\n",
    "#A majority of our clients (194,368 out of 304,495 or 63.82%) are married.\n",
    "#The next largest category in terms of family status is single / not married, which makes up\n",
    "#45,007 out of 304,495 people or 14.78% of our clients."
   ]
  },
  {
   "cell_type": "code",
   "execution_count": null,
   "metadata": {},
   "outputs": [],
   "source": [
    "#Part 3 complete!"
   ]
  },
  {
   "cell_type": "code",
   "execution_count": null,
   "metadata": {},
   "outputs": [],
   "source": [
    "# 4. Who defaults or has problems replaying loans?\n",
    "# Create visualizations to show management qualities specific to those who are in default/late.  \n",
    "# Show three meaningful visualizations.\n",
    "# Use at least one group/by or bin in your analysis."
   ]
  },
  {
   "cell_type": "code",
   "execution_count": null,
   "metadata": {},
   "outputs": [],
   "source": [
    "df2.info()"
   ]
  },
  {
   "cell_type": "code",
   "execution_count": null,
   "metadata": {},
   "outputs": [],
   "source": [
    "#a. Loan Defaults by Age Group\n",
    "dfAgeBinTar = df2.groupby(['Age Bin'],as_index=False)['TARGET'].count()\n",
    "#dfAgeBinTar2 = df2.groupby(['Age Bin'], as_index=True)['TARGET'].count()"
   ]
  },
  {
   "cell_type": "code",
   "execution_count": null,
   "metadata": {},
   "outputs": [],
   "source": [
    "dfAgeBinTar"
   ]
  },
  {
   "cell_type": "code",
   "execution_count": null,
   "metadata": {},
   "outputs": [],
   "source": [
    "#dfAgeBinTar2"
   ]
  },
  {
   "cell_type": "code",
   "execution_count": null,
   "metadata": {},
   "outputs": [],
   "source": [
    "fig = plt.figure(figsize= (12,5))\n",
    "plt.bar(dfAgeBinTar['Age Bin'], dfAgeBinTar['TARGET'], color = 'b')\n",
    "plt.xlabel('Age Groups')\n",
    "plt.ylabel('Number of Clients')\n",
    "plt.title('Loan Defaults by Age Group')\n",
    "#When examining loan defaults by age group, we see that the weights are somewhat normally distributed.\n",
    "#The age groups with the lowest number of loan defaults are clients between the ages of 20 to 25 and 65 to 70.\n",
    "#The age group with the highest number of defaults is the 35 to 40 year old age group."
   ]
  },
  {
   "cell_type": "code",
   "execution_count": null,
   "metadata": {},
   "outputs": [],
   "source": [
    "#b. Loan Defaults by Income Group\n",
    "dfIncomeBinTar = df2.groupby(['Income Bin'],as_index=False)['TARGET'].count()"
   ]
  },
  {
   "cell_type": "code",
   "execution_count": null,
   "metadata": {},
   "outputs": [],
   "source": [
    "dfIncomeBinTar"
   ]
  },
  {
   "cell_type": "code",
   "execution_count": null,
   "metadata": {},
   "outputs": [],
   "source": [
    "fig = plt.figure(figsize= (12,5))\n",
    "plt.bar(dfIncomeBinTar['Income Bin'], dfIncomeBinTar['TARGET'], color = 'b')\n",
    "plt.xlabel('Income Groups')\n",
    "plt.ylabel('Number of Clients')\n",
    "plt.title('Loan Defaults by Income Group')\n",
    "#When examining loan defaults by income group, we see that the income groups with the lowest number of loan \n",
    "#defaults are at the tails, that is, clients in the 0-50k (lowest) and the five highest income groups.\n",
    "#The income group with the highest number of defaults is the 100-150k income group.\n",
    "#That being said, this correlation should be taken with a grain of salt since we saw above that there is \n",
    "#an uneven distribution in the number of clients in terms of income level."
   ]
  },
  {
   "cell_type": "code",
   "execution_count": null,
   "metadata": {},
   "outputs": [],
   "source": [
    "#c. Loan Defaults by Education Level\n",
    "dfEduTar = df2.groupby(['NAME_EDUCATION_TYPE'],as_index=False)['TARGET'].count()"
   ]
  },
  {
   "cell_type": "code",
   "execution_count": null,
   "metadata": {},
   "outputs": [],
   "source": [
    "dfEduTar"
   ]
  },
  {
   "cell_type": "code",
   "execution_count": null,
   "metadata": {},
   "outputs": [],
   "source": [
    "fig = plt.figure(figsize= (12,5))\n",
    "plt.bar(dfEduTar['NAME_EDUCATION_TYPE'], dfEduTar['TARGET'], color = 'b')\n",
    "plt.xlabel('Education Level')\n",
    "plt.ylabel('Number of Clients')\n",
    "plt.title('Loan Defaults by Education Level')\n",
    "\n",
    "#When examining loan defaults by education level, we see that the group with the highest number of defaults \n",
    "#is the secondary/secondary special education group, followed by the higher education group.\n",
    "#That being said, this conclusion should be taken with a grain of salt since we saw above that there is \n",
    "#an uneven distribution in the number of clients in terms of education level."
   ]
  },
  {
   "cell_type": "code",
   "execution_count": null,
   "metadata": {},
   "outputs": [],
   "source": [
    "#Part 4 complete!"
   ]
  },
  {
   "cell_type": "code",
   "execution_count": null,
   "metadata": {},
   "outputs": [],
   "source": [
    "# 5. Prepare the data for a regression analysis\n",
    "# The ABC management team has heard that it might be possible to use their data to make predictions.  \n",
    "#They don’t know much about data analytics. We are hoping that an example of what is possible will help them \n",
    "#understand better.\n",
    "# Prepare the data file to run with a regression analysis. Use the techniques and methods discussed in class."
   ]
  },
  {
   "cell_type": "code",
   "execution_count": null,
   "metadata": {},
   "outputs": [],
   "source": [
    "import sklearn "
   ]
  },
  {
   "cell_type": "code",
   "execution_count": null,
   "metadata": {},
   "outputs": [],
   "source": [
    "#from sklearn.linear_model import LinearRegression\n",
    "\n",
    "#Above line commented out because we'll be using LogisticRegression here."
   ]
  },
  {
   "cell_type": "code",
   "execution_count": null,
   "metadata": {},
   "outputs": [],
   "source": [
    "df2.info()\n",
    "#Note: The following columns are categorical:\n",
    "#NAME_CONTRACT_TYPE\n",
    "#CODE_GENDER\n",
    "#FLAG_OWN_CAR\n",
    "#FLAG_OWN_REALTY\n",
    "#NAME_INCOME_TYPE\n",
    "#NAME_EDUCATION_TYPE\n",
    "#NAME_FAMILY_STATUS\n",
    "#NAME_HOUSING_TYPE\n",
    "#OCCUPATION_TYPE\n",
    "#ORGANIZATION_TYPE\n",
    "#Age Bin\n",
    "#Income Bin"
   ]
  },
  {
   "cell_type": "code",
   "execution_count": null,
   "metadata": {},
   "outputs": [],
   "source": [
    "df2.head() #Let's examine the dataset again to decide if there are any other columns to drop"
   ]
  },
  {
   "cell_type": "code",
   "execution_count": null,
   "metadata": {},
   "outputs": [],
   "source": [
    "X = df2\n",
    "#The following are the remaining categorical variables in our dataframe:\n",
    "#X = X.drop('NAME_CONTRACT_TYPE', axis = 1) #decided to include\n",
    "#X = X.drop('CODE_GENDER', axis = 1) #included\n",
    "#X = X.drop('FLAG_OWN_CAR', axis = 1) #included\n",
    "#X = X.drop('FLAG_OWN_REALTY', axis = 1) #included\n",
    "#X = X.drop('NAME_INCOME_TYPE', axis = 1) #included\n",
    "#X = X.drop('NAME_EDUCATION_TYPE', axis = 1) #included\n",
    "#X = X.drop('NAME_FAMILY_STATUS', axis = 1) #included\n",
    "#X = X.drop('NAME_HOUSING_TYPE', axis = 1) #included\n",
    "X = X.drop('OCCUPATION_TYPE', axis = 1) #drop since this column has null data\n",
    "X = X.drop('ORGANIZATION_TYPE', axis = 1) #drop since there are many unique values\n",
    "X = X.drop('Age Bin', axis = 1) #drop since we already have an age column\n",
    "X = X.drop('Income Bin', axis = 1) #drop since we already have a column that surveys income\n",
    "\n",
    "X = X.drop('REG_REGION_NOT_LIVE_REGION', axis = 1)\n",
    "X = X.drop('REG_REGION_NOT_WORK_REGION', axis = 1)\n",
    "X = X.drop('LIVE_REGION_NOT_WORK_REGION', axis = 1)\n",
    "X = X.drop('REG_CITY_NOT_LIVE_CITY', axis = 1)\n",
    "X = X.drop('REG_CITY_NOT_WORK_CITY', axis = 1)\n",
    "X = X.drop('LIVE_CITY_NOT_WORK_CITY', axis = 1)\n",
    "\n",
    "#Although some of these columns are of interest, we drop them for our Logistic Regression because\n",
    "#they are categorical variables and they contain many unique values.\n",
    "\n",
    "#I dropped the REG_REGION, LIVE_REGION, REG_CITY, and LIVE_CITY columns because they did not improve \n",
    "#the R^2 value. In part 1, I already dropped the OWN_CAR_AGE column\n",
    "#because I considerd it irrelevant to the TARGET variable (whether the client defaulted)."
   ]
  },
  {
   "cell_type": "code",
   "execution_count": null,
   "metadata": {},
   "outputs": [],
   "source": [
    "X"
   ]
  },
  {
   "cell_type": "code",
   "execution_count": null,
   "metadata": {},
   "outputs": [],
   "source": [
    "X = pd.get_dummies(X)"
   ]
  },
  {
   "cell_type": "code",
   "execution_count": null,
   "metadata": {},
   "outputs": [],
   "source": [
    "X"
   ]
  },
  {
   "cell_type": "code",
   "execution_count": null,
   "metadata": {},
   "outputs": [],
   "source": [
    "X.info() #be sure that all predictor variables are numerical to prepare for regression"
   ]
  },
  {
   "cell_type": "code",
   "execution_count": null,
   "metadata": {},
   "outputs": [],
   "source": []
  },
  {
   "cell_type": "code",
   "execution_count": null,
   "metadata": {},
   "outputs": [],
   "source": [
    "Y = df2['TARGET'] #We'll use the TARGET variable (whether the client defaulted) as the response variable\n",
    "X, Y"
   ]
  },
  {
   "cell_type": "code",
   "execution_count": null,
   "metadata": {},
   "outputs": [],
   "source": [
    "#Our X and Y have been defined, now we can fit the model.\n",
    "#lr = LinearRegression() #instantiate the Linear Regression object\n",
    "#lr.fit(X,Y)\n",
    "\n",
    "#Notes from Prof. Feldman Zoom Meeting: Logistic Regression is required here since the TARGET variable\n",
    "#is binary. (It takes on the two values of 0 and 1.)"
   ]
  },
  {
   "cell_type": "code",
   "execution_count": null,
   "metadata": {},
   "outputs": [],
   "source": [
    "from sklearn.linear_model import LogisticRegression"
   ]
  },
  {
   "cell_type": "code",
   "execution_count": null,
   "metadata": {},
   "outputs": [],
   "source": [
    "lr = LogisticRegression() #instantiate the Logistic Regression object\n",
    "lr.fit(X,Y)"
   ]
  },
  {
   "cell_type": "code",
   "execution_count": null,
   "metadata": {},
   "outputs": [],
   "source": [
    "#Part 5 complete!"
   ]
  },
  {
   "cell_type": "code",
   "execution_count": null,
   "metadata": {},
   "outputs": [],
   "source": [
    "# 6. Run the regression analysis\n",
    "# Show scoring and a confusion matrix. You do not need to split the data.  Running it as a full dataset is fine."
   ]
  },
  {
   "cell_type": "code",
   "execution_count": null,
   "metadata": {
    "scrolled": true,
    "tags": []
   },
   "outputs": [],
   "source": [
    "#Scoring\n",
    "lr.score(X,Y) #R squared: 0.9189937437396345\n",
    "#We see that there is a strong correlation between the predictor variables we left in the dataframe \n",
    "#and the TARGET respones variable (whether the client defaulted)."
   ]
  },
  {
   "cell_type": "code",
   "execution_count": null,
   "metadata": {},
   "outputs": [],
   "source": [
    "#Confusion Matrix\n",
    "pred_test = lr.predict(X)\n",
    "pred_test"
   ]
  },
  {
   "cell_type": "code",
   "execution_count": null,
   "metadata": {},
   "outputs": [],
   "source": [
    "from sklearn import metrics"
   ]
  },
  {
   "cell_type": "code",
   "execution_count": null,
   "metadata": {},
   "outputs": [],
   "source": [
    "Y"
   ]
  },
  {
   "cell_type": "code",
   "execution_count": null,
   "metadata": {},
   "outputs": [],
   "source": [
    "print(metrics.confusion_matrix(Y, pred_test))"
   ]
  },
  {
   "cell_type": "code",
   "execution_count": null,
   "metadata": {},
   "outputs": [],
   "source": [
    "cmtx = pd.DataFrame(\n",
    "    metrics.confusion_matrix(Y,pred_test),  \n",
    "    index=['actual:yes', 'actual:no'], \n",
    "    columns=['pred:yes', 'pred:no']\n",
    ")\n",
    "print(cmtx)"
   ]
  },
  {
   "cell_type": "code",
   "execution_count": null,
   "metadata": {},
   "outputs": [],
   "source": [
    "#Part 6 & Final Project complete!"
   ]
  },
  {
   "cell_type": "code",
   "execution_count": null,
   "metadata": {},
   "outputs": [],
   "source": [
    "from sklearn.model_selection import train_test_split\n",
    "from sklearn import metrics"
   ]
  },
  {
   "cell_type": "code",
   "execution_count": null,
   "metadata": {},
   "outputs": [],
   "source": [
    "#Exam Practice:\n",
    "X_train, X_test, y_train,y_test = train_test_split(X,Y, test_size=.3, random_state=42)"
   ]
  },
  {
   "cell_type": "code",
   "execution_count": null,
   "metadata": {},
   "outputs": [],
   "source": [
    "X_train.shape"
   ]
  },
  {
   "cell_type": "code",
   "execution_count": null,
   "metadata": {},
   "outputs": [],
   "source": [
    "X_test.shape"
   ]
  },
  {
   "cell_type": "code",
   "execution_count": null,
   "metadata": {},
   "outputs": [],
   "source": [
    "y_train.shape"
   ]
  },
  {
   "cell_type": "code",
   "execution_count": null,
   "metadata": {},
   "outputs": [],
   "source": [
    "y_test.shape"
   ]
  },
  {
   "cell_type": "code",
   "execution_count": null,
   "metadata": {},
   "outputs": [],
   "source": [
    "#run with the training set\n",
    "lr.fit(X_train,y_train)"
   ]
  },
  {
   "cell_type": "code",
   "execution_count": null,
   "metadata": {},
   "outputs": [],
   "source": [
    "lr.score(X_train,y_train)"
   ]
  },
  {
   "cell_type": "code",
   "execution_count": null,
   "metadata": {},
   "outputs": [],
   "source": [
    "pred_train = lr.predict(X_train)"
   ]
  },
  {
   "cell_type": "code",
   "execution_count": null,
   "metadata": {},
   "outputs": [],
   "source": [
    "cmtx = pd.DataFrame(\n",
    "    metrics.confusion_matrix(y_train,pred_train),  \n",
    "    index=['actual:yes', 'actual:no'], \n",
    "    columns=['pred:yes', 'pred:no']\n",
    ")\n",
    "print(cmtx)"
   ]
  },
  {
   "cell_type": "code",
   "execution_count": null,
   "metadata": {},
   "outputs": [],
   "source": [
    "##lets do this with the test set now"
   ]
  },
  {
   "cell_type": "code",
   "execution_count": null,
   "metadata": {},
   "outputs": [],
   "source": [
    "lr.fit(X_test,y_test)"
   ]
  },
  {
   "cell_type": "code",
   "execution_count": null,
   "metadata": {},
   "outputs": [],
   "source": [
    "lr.score(X_test,y_test)"
   ]
  },
  {
   "cell_type": "code",
   "execution_count": null,
   "metadata": {},
   "outputs": [],
   "source": [
    "pred_test = lr.predict(X_test)"
   ]
  },
  {
   "cell_type": "code",
   "execution_count": null,
   "metadata": {},
   "outputs": [],
   "source": [
    "cmtx = pd.DataFrame(\n",
    "    metrics.confusion_matrix(y_test,pred_test),  \n",
    "    index=['actual:yes', 'actual:no'], \n",
    "    columns=['pred:yes', 'pred:no']\n",
    ")\n",
    "print(cmtx)"
   ]
  }
 ],
 "metadata": {
  "kernelspec": {
   "display_name": "Python 3 (ipykernel)",
   "language": "python",
   "name": "python3"
  },
  "language_info": {
   "codemirror_mode": {
    "name": "ipython",
    "version": 3
   },
   "file_extension": ".py",
   "mimetype": "text/x-python",
   "name": "python",
   "nbconvert_exporter": "python",
   "pygments_lexer": "ipython3",
   "version": "3.9.7"
  }
 },
 "nbformat": 4,
 "nbformat_minor": 4
}
